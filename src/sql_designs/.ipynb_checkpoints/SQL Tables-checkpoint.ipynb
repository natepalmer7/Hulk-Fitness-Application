{
 "cells": [
  {
   "cell_type": "code",
   "execution_count": 144,
   "id": "3c0e9229",
   "metadata": {},
   "outputs": [],
   "source": [
    "import sqlite3\n",
    "import os"
   ]
  },
  {
   "cell_type": "code",
   "execution_count": 145,
   "id": "abde6f96",
   "metadata": {},
   "outputs": [],
   "source": [
    "def connect(db_filename):\n",
    "    # Adds .db to filename if necessary\n",
    "    if db_filename[-3:] != '.db':\n",
    "        db_filename += '.db'\n",
    "        \n",
    "    conn = sqlite3.connect(db_filename)\n",
    "    c = conn.cursor()\n",
    "    \n",
    "    return c"
   ]
  },
  {
   "cell_type": "code",
   "execution_count": 146,
   "id": "82fba6b1",
   "metadata": {},
   "outputs": [],
   "source": [
    "def create(table, categories):\n",
    "    command = \"CREATE TABLE IF NOT EXISTS \"\n",
    "    command += table\n",
    "    command += \" (\\n\"\n",
    "    \n",
    "    for attribute, datatype in categories.items():\n",
    "        command += attribute\n",
    "        command += \" \"\n",
    "        \n",
    "        command += datatype\n",
    "        command += \",\\n\"\n",
    "    \n",
    "    command = command[:-2]\n",
    "    command += \");\"\n",
    "    \n",
    "    print(command)\n",
    "    c.execute(command)"
   ]
  },
  {
   "cell_type": "code",
   "execution_count": 147,
   "id": "cedf360a",
   "metadata": {},
   "outputs": [],
   "source": [
    "def drop(table):\n",
    "    command = \"DROP TABLE IF EXISTS \" + table\n",
    "    c.execute(command)"
   ]
  },
  {
   "cell_type": "code",
   "execution_count": 148,
   "id": "74fd9a13",
   "metadata": {},
   "outputs": [],
   "source": [
    "def drop_all():\n",
    "    c.execute(\"SELECT name FROM sqlite_master WHERE type='table';\")\n",
    "\n",
    "    for table in c.fetchall():\n",
    "        drop(table[0])"
   ]
  },
  {
   "cell_type": "code",
   "execution_count": 149,
   "id": "89a9d7b1",
   "metadata": {},
   "outputs": [],
   "source": [
    "def print_database():\n",
    "    c.execute(\"SELECT name FROM sqlite_master WHERE type='table';\")\n",
    "    print (\"Tables:\")\n",
    "    \n",
    "    for t in c.fetchall() :\n",
    "        print (\"\\t[%s]\"%t[0])\n",
    "        print (\"\\tColumns of\", t[0])\n",
    "        c.execute(\"PRAGMA table_info(%s);\"%t[0])\n",
    "        \n",
    "        for attr in c.fetchall() :\n",
    "            print (\"\\t\\t\", attr)\n",
    "            \n",
    "        print()"
   ]
  },
  {
   "cell_type": "code",
   "execution_count": 150,
   "id": "10288f43",
   "metadata": {},
   "outputs": [],
   "source": [
    "db_filename = \"test_tables\"\n",
    "c = connect(db_filename)"
   ]
  },
  {
   "cell_type": "code",
   "execution_count": 151,
   "id": "019992d4",
   "metadata": {},
   "outputs": [
    {
     "name": "stdout",
     "output_type": "stream",
     "text": [
      "CREATE TABLE IF NOT EXISTS body_part (\n",
      "part_id INT,\n",
      "part_name VARCHAR(30),\n",
      "calories INT);\n"
     ]
    }
   ],
   "source": [
    "table = \"body_part\"\n",
    "\n",
    "categories = {\n",
    "    \"part_id\": \"INT\",\n",
    "    \"part_name\": \"VARCHAR(30)\",\n",
    "    \"calories\": \"INT\"\n",
    "}\n",
    "\n",
    "create(table, categories)"
   ]
  },
  {
   "cell_type": "code",
   "execution_count": 152,
   "id": "4b48061d",
   "metadata": {},
   "outputs": [
    {
     "name": "stdout",
     "output_type": "stream",
     "text": [
      "CREATE TABLE IF NOT EXISTS equipment (\n",
      "equipment_id INT,\n",
      "equipment_name VARCHAR(30));\n"
     ]
    }
   ],
   "source": [
    "table = \"equipment\"\n",
    "\n",
    "categories = {\n",
    "    \"equipment_id\": \"INT\",\n",
    "    \"equipment_name\": \"VARCHAR(30)\"\n",
    "}\n",
    "\n",
    "create(table, categories)"
   ]
  },
  {
   "cell_type": "code",
   "execution_count": 153,
   "id": "2a61a4bf",
   "metadata": {},
   "outputs": [
    {
     "name": "stdout",
     "output_type": "stream",
     "text": [
      "CREATE TABLE IF NOT EXISTS exercise (\n",
      "exercise_id INT,\n",
      "exercise_name VARCHAR(30),\n",
      "exercise_description VARCHAR(1000),\n",
      "exercise_body_part VARCHAR(30),\n",
      "exercise_equipment VARCHAR(30));\n"
     ]
    }
   ],
   "source": [
    "table = \"exercise\"\n",
    "\n",
    "categories = {\n",
    "    \"exercise_id\": \"INT\",\n",
    "    \"exercise_name\": \"VARCHAR(30)\",\n",
    "    \"exercise_description\": \"VARCHAR(1000)\",\n",
    "    \"exercise_body_part\": \"VARCHAR(30)\",\n",
    "    \"exercise_equipment\": \"VARCHAR(30)\"\n",
    "}\n",
    "\n",
    "create(table, categories)"
   ]
  },
  {
   "cell_type": "code",
   "execution_count": 154,
   "id": "9baa7d28",
   "metadata": {},
   "outputs": [
    {
     "name": "stdout",
     "output_type": "stream",
     "text": [
      "CREATE TABLE IF NOT EXISTS user (\n",
      "user_id INT,\n",
      "username VARCHAR(15),\n",
      "email VARCHAR(320));\n"
     ]
    }
   ],
   "source": [
    "table = \"user\"\n",
    "\n",
    "categories = {\n",
    "    \"user_id\": \"INT\",\n",
    "    \"username\": \"VARCHAR(15)\",\n",
    "    \"email\": \"VARCHAR(320)\"\n",
    "}\n",
    "\n",
    "create(table, categories)"
   ]
  },
  {
   "cell_type": "code",
   "execution_count": 155,
   "id": "59aa7ac4",
   "metadata": {},
   "outputs": [
    {
     "name": "stdout",
     "output_type": "stream",
     "text": [
      "CREATE TABLE IF NOT EXISTS favorite (\n",
      "favorite_id INT,\n",
      "favorite_user VARCHAR(15),\n",
      "favorite_exercise VARCHAR(30));\n"
     ]
    }
   ],
   "source": [
    "table = \"favorite\"\n",
    "\n",
    "categories = {\n",
    "    \"favorite_id\": \"INT\",\n",
    "    \"favorite_user\": \"VARCHAR(15)\",\n",
    "    \"favorite_exercise\": \"VARCHAR(30)\"\n",
    "}\n",
    "\n",
    "create(table, categories)"
   ]
  },
  {
   "cell_type": "code",
   "execution_count": 156,
   "id": "e1605bd8",
   "metadata": {},
   "outputs": [
    {
     "name": "stdout",
     "output_type": "stream",
     "text": [
      "Tables:\n",
      "\t[body_part]\n",
      "\tColumns of body_part\n",
      "\t\t (0, 'part_id', 'INT', 0, None, 0)\n",
      "\t\t (1, 'part_name', 'VARCHAR(30)', 0, None, 0)\n",
      "\t\t (2, 'calories', 'INT', 0, None, 0)\n",
      "\n",
      "\t[equipment]\n",
      "\tColumns of equipment\n",
      "\t\t (0, 'equipment_id', 'INT', 0, None, 0)\n",
      "\t\t (1, 'equipment_name', 'VARCHAR(30)', 0, None, 0)\n",
      "\n",
      "\t[exercise]\n",
      "\tColumns of exercise\n",
      "\t\t (0, 'exercise_id', 'INT', 0, None, 0)\n",
      "\t\t (1, 'exercise_name', 'VARCHAR(30)', 0, None, 0)\n",
      "\t\t (2, 'exercise_description', 'VARCHAR(1000)', 0, None, 0)\n",
      "\t\t (3, 'exercise_body_part', 'VARCHAR(30)', 0, None, 0)\n",
      "\t\t (4, 'exercise_equipment', 'VARCHAR(30)', 0, None, 0)\n",
      "\n",
      "\t[user]\n",
      "\tColumns of user\n",
      "\t\t (0, 'user_id', 'INT', 0, None, 0)\n",
      "\t\t (1, 'username', 'VARCHAR(15)', 0, None, 0)\n",
      "\t\t (2, 'email', 'VARCHAR(320)', 0, None, 0)\n",
      "\n",
      "\t[favorite]\n",
      "\tColumns of favorite\n",
      "\t\t (0, 'favorite_id', 'INT', 0, None, 0)\n",
      "\t\t (1, 'favorite_user', 'VARCHAR(15)', 0, None, 0)\n",
      "\t\t (2, 'favorite_exercise', 'VARCHAR(30)', 0, None, 0)\n",
      "\n"
     ]
    }
   ],
   "source": [
    "print_database()"
   ]
  },
  {
   "cell_type": "code",
   "execution_count": 157,
   "id": "d53d1531",
   "metadata": {},
   "outputs": [],
   "source": [
    "#drop_all()"
   ]
  },
  {
   "cell_type": "code",
   "execution_count": null,
   "id": "6d59a06c",
   "metadata": {},
   "outputs": [],
   "source": []
  }
 ],
 "metadata": {
  "kernelspec": {
   "display_name": "Python 3 (ipykernel)",
   "language": "python",
   "name": "python3"
  },
  "language_info": {
   "codemirror_mode": {
    "name": "ipython",
    "version": 3
   },
   "file_extension": ".py",
   "mimetype": "text/x-python",
   "name": "python",
   "nbconvert_exporter": "python",
   "pygments_lexer": "ipython3",
   "version": "3.8.8"
  }
 },
 "nbformat": 4,
 "nbformat_minor": 5
}
