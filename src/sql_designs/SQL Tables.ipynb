{
 "cells": [
  {
   "cell_type": "code",
   "execution_count": 247,
   "id": "3c0e9229",
   "metadata": {},
   "outputs": [],
   "source": [
    "import sqlite3"
   ]
  },
  {
   "cell_type": "code",
   "execution_count": 248,
   "id": "abde6f96",
   "metadata": {},
   "outputs": [],
   "source": [
    "def connect(db_filename):\n",
    "    # Adds .db to filename if necessary\n",
    "    if db_filename[-3:] != '.db':\n",
    "        db_filename += '.db'\n",
    "        \n",
    "    conn = sqlite3.connect(db_filename)\n",
    "    c = conn.cursor()\n",
    "    \n",
    "    return conn, c"
   ]
  },
  {
   "cell_type": "code",
   "execution_count": 249,
   "id": "82fba6b1",
   "metadata": {},
   "outputs": [],
   "source": [
    "def create(table, categories):\n",
    "    command = \"CREATE TABLE IF NOT EXISTS \"\n",
    "    command += table\n",
    "    command += \" (\\n\"\n",
    "    \n",
    "    for attribute, datatype in categories.items():\n",
    "        command += attribute\n",
    "        command += \" \"\n",
    "        \n",
    "        command += datatype\n",
    "        command += \",\\n\"\n",
    "    \n",
    "    command = command[:-2]\n",
    "    command += \");\"\n",
    "    \n",
    "    print(command)\n",
    "    c.execute(command)"
   ]
  },
  {
   "cell_type": "code",
   "execution_count": 250,
   "id": "37c35709",
   "metadata": {},
   "outputs": [],
   "source": [
    "def insert(value, table):\n",
    "    command = \"INSERT INTO \" + table + \" VALUES (\"\n",
    "    \n",
    "    col_count = c.execute(\n",
    "        \"SELECT count() FROM PRAGMA_TABLE_INFO('\" + table + \"');\"\n",
    "    )\n",
    "    \n",
    "    col_count = col_count.fetchall()\n",
    "    col_count = col_count[0][0]\n",
    "    \n",
    "    for i in range(col_count - 1):\n",
    "        command += \"?, \"\n",
    "    \n",
    "    command += \"?);\"\n",
    "    #print(command)\n",
    "    \n",
    "    c.execute(command, value)\n",
    "    conn.commit()"
   ]
  },
  {
   "cell_type": "code",
   "execution_count": 251,
   "id": "cedf360a",
   "metadata": {},
   "outputs": [],
   "source": [
    "def drop(table):\n",
    "    command = \"DROP TABLE IF EXISTS \" + table\n",
    "    c.execute(command)"
   ]
  },
  {
   "cell_type": "code",
   "execution_count": 252,
   "id": "74fd9a13",
   "metadata": {},
   "outputs": [],
   "source": [
    "def drop_all():\n",
    "    c.execute(\"SELECT name FROM sqlite_master WHERE type='table';\")\n",
    "\n",
    "    for table in c.fetchall():\n",
    "        drop(table[0])"
   ]
  },
  {
   "cell_type": "code",
   "execution_count": 253,
   "id": "89a9d7b1",
   "metadata": {},
   "outputs": [],
   "source": [
    "def print_database():\n",
    "    c.execute(\"SELECT name FROM sqlite_master WHERE type='table';\")\n",
    "    print (\"Tables:\")\n",
    "    \n",
    "    for t in c.fetchall() :\n",
    "        print (\"\\t[%s]\"%t[0])\n",
    "        print (\"\\tColumns of\", t[0])\n",
    "        c.execute(\"PRAGMA table_info(%s);\"%t[0])\n",
    "        \n",
    "        for attr in c.fetchall() :\n",
    "            print (\"\\t\\t\", attr)\n",
    "            \n",
    "        print()"
   ]
  },
  {
   "cell_type": "code",
   "execution_count": 254,
   "id": "451ccb4e",
   "metadata": {},
   "outputs": [],
   "source": [
    "def print_table(table):\n",
    "    data = c.execute(\"SELECT * FROM \" + table)\n",
    "\n",
    "    for row in data:\n",
    "        print(row)"
   ]
  },
  {
   "cell_type": "code",
   "execution_count": 255,
   "id": "10288f43",
   "metadata": {},
   "outputs": [],
   "source": [
    "db_filename = \"test_tables\"\n",
    "conn, c = connect(db_filename)\n",
    "drop_all()"
   ]
  },
  {
   "cell_type": "code",
   "execution_count": 256,
   "id": "019992d4",
   "metadata": {},
   "outputs": [
    {
     "name": "stdout",
     "output_type": "stream",
     "text": [
      "CREATE TABLE IF NOT EXISTS body_part (\n",
      "part_id INT,\n",
      "part_name VARCHAR(30),\n",
      "calories INT);\n"
     ]
    }
   ],
   "source": [
    "table = \"body_part\"\n",
    "\n",
    "categories = {\n",
    "    \"part_id\": \"INT\",\n",
    "    \"part_name\": \"VARCHAR(30)\",\n",
    "    \"calories\": \"INT\"\n",
    "}\n",
    "\n",
    "create(table, categories)"
   ]
  },
  {
   "cell_type": "code",
   "execution_count": 257,
   "id": "4b48061d",
   "metadata": {},
   "outputs": [
    {
     "name": "stdout",
     "output_type": "stream",
     "text": [
      "CREATE TABLE IF NOT EXISTS equipment (\n",
      "equipment_id INT,\n",
      "equipment_name VARCHAR(30));\n"
     ]
    }
   ],
   "source": [
    "table = \"equipment\"\n",
    "\n",
    "categories = {\n",
    "    \"equipment_id\": \"INT\",\n",
    "    \"equipment_name\": \"VARCHAR(30)\"\n",
    "}\n",
    "\n",
    "create(table, categories)"
   ]
  },
  {
   "cell_type": "code",
   "execution_count": 258,
   "id": "2a61a4bf",
   "metadata": {},
   "outputs": [
    {
     "name": "stdout",
     "output_type": "stream",
     "text": [
      "CREATE TABLE IF NOT EXISTS exercise (\n",
      "exercise_id INT,\n",
      "exercise_name VARCHAR(30),\n",
      "exercise_description VARCHAR(1000),\n",
      "exercise_body_part VARCHAR(30),\n",
      "exercise_equipment VARCHAR(30));\n"
     ]
    }
   ],
   "source": [
    "table = \"exercise\"\n",
    "\n",
    "categories = {\n",
    "    \"exercise_id\": \"INT\",\n",
    "    \"exercise_name\": \"VARCHAR(30)\",\n",
    "    \"exercise_description\": \"VARCHAR(1000)\",\n",
    "    \"exercise_body_part\": \"VARCHAR(30)\",\n",
    "    \"exercise_equipment\": \"VARCHAR(30)\"\n",
    "}\n",
    "\n",
    "create(table, categories)"
   ]
  },
  {
   "cell_type": "code",
   "execution_count": 259,
   "id": "9baa7d28",
   "metadata": {},
   "outputs": [
    {
     "name": "stdout",
     "output_type": "stream",
     "text": [
      "CREATE TABLE IF NOT EXISTS account (\n",
      "account_id INT,\n",
      "username VARCHAR(15),\n",
      "email VARCHAR(320));\n"
     ]
    }
   ],
   "source": [
    "table = \"account\"\n",
    "\n",
    "categories = {\n",
    "    \"account_id\": \"INT\",\n",
    "    \"username\": \"VARCHAR(15)\",\n",
    "    \"email\": \"VARCHAR(320)\"\n",
    "}\n",
    "\n",
    "create(table, categories)"
   ]
  },
  {
   "cell_type": "code",
   "execution_count": 260,
   "id": "59aa7ac4",
   "metadata": {},
   "outputs": [
    {
     "name": "stdout",
     "output_type": "stream",
     "text": [
      "CREATE TABLE IF NOT EXISTS favorite (\n",
      "favorite_id INT,\n",
      "favorite_user VARCHAR(15),\n",
      "favorite_exercise VARCHAR(30));\n"
     ]
    }
   ],
   "source": [
    "table = \"favorite\"\n",
    "\n",
    "categories = {\n",
    "    \"favorite_id\": \"INT\",\n",
    "    \"favorite_user\": \"VARCHAR(15)\",\n",
    "    \"favorite_exercise\": \"VARCHAR(30)\"\n",
    "}\n",
    "\n",
    "create(table, categories)"
   ]
  },
  {
   "cell_type": "code",
   "execution_count": 261,
   "id": "e1605bd8",
   "metadata": {},
   "outputs": [
    {
     "name": "stdout",
     "output_type": "stream",
     "text": [
      "Tables:\n",
      "\t[body_part]\n",
      "\tColumns of body_part\n",
      "\t\t (0, 'part_id', 'INT', 0, None, 0)\n",
      "\t\t (1, 'part_name', 'VARCHAR(30)', 0, None, 0)\n",
      "\t\t (2, 'calories', 'INT', 0, None, 0)\n",
      "\n",
      "\t[equipment]\n",
      "\tColumns of equipment\n",
      "\t\t (0, 'equipment_id', 'INT', 0, None, 0)\n",
      "\t\t (1, 'equipment_name', 'VARCHAR(30)', 0, None, 0)\n",
      "\n",
      "\t[exercise]\n",
      "\tColumns of exercise\n",
      "\t\t (0, 'exercise_id', 'INT', 0, None, 0)\n",
      "\t\t (1, 'exercise_name', 'VARCHAR(30)', 0, None, 0)\n",
      "\t\t (2, 'exercise_description', 'VARCHAR(1000)', 0, None, 0)\n",
      "\t\t (3, 'exercise_body_part', 'VARCHAR(30)', 0, None, 0)\n",
      "\t\t (4, 'exercise_equipment', 'VARCHAR(30)', 0, None, 0)\n",
      "\n",
      "\t[account]\n",
      "\tColumns of account\n",
      "\t\t (0, 'account_id', 'INT', 0, None, 0)\n",
      "\t\t (1, 'username', 'VARCHAR(15)', 0, None, 0)\n",
      "\t\t (2, 'email', 'VARCHAR(320)', 0, None, 0)\n",
      "\n",
      "\t[favorite]\n",
      "\tColumns of favorite\n",
      "\t\t (0, 'favorite_id', 'INT', 0, None, 0)\n",
      "\t\t (1, 'favorite_user', 'VARCHAR(15)', 0, None, 0)\n",
      "\t\t (2, 'favorite_exercise', 'VARCHAR(30)', 0, None, 0)\n",
      "\n"
     ]
    }
   ],
   "source": [
    "print_database()"
   ]
  },
  {
   "cell_type": "code",
   "execution_count": 262,
   "id": "abc57e4d",
   "metadata": {},
   "outputs": [],
   "source": [
    "insertions = {\n",
    "    \"body_part\": [\n",
    "        (0, \"Arms\", 13),\n",
    "        (1, \"Back\", 69),\n",
    "        (2, \"Legs\", 7),\n",
    "        (3, \"Abs\", 21),\n",
    "        (4, \"Cardio\", 45)\n",
    "    ],\n",
    "    \n",
    "    \"equipment\": [\n",
    "        (0, \"Dumbbells\"),\n",
    "        (1, \"Dumbbells\"),\n",
    "        (2, \"Single Dumbbell\"),\n",
    "        (3, \"Body Weight\"),\n",
    "        (4, \"Body Weight\")\n",
    "    ],\n",
    "    \n",
    "    \"exercise\": [\n",
    "        (0, \"Bicep Curl\", \"Curls dumbbells from a standing position\", \n",
    "         \"Arms\", \"Dumbbells\"),\n",
    "        \n",
    "        (1, \"Rows\", \"Pulls dumbbells towards the chest while bending over\", \n",
    "         \"Back\", \"Dumbbells\"),\n",
    "        \n",
    "        (2, \"Squats\", \"Lowers body by bending at the hips and knees\", \n",
    "         \"Legs\", \"Body Weight\"),\n",
    "        \n",
    "        (3, \"Sit-Ups\", \n",
    "         \"Lifts upper body towards knees while lying on the ground\", \n",
    "         \"Abs\", \"Body Weight\"),\n",
    "        \n",
    "        (4, \"Running\", \"Fast-paced movement using legs and feet\", \n",
    "         \"Cardio\", \"None\")\n",
    "    ],\n",
    "    \n",
    "    \"account\": [\n",
    "        (23, 'LeBron', 'KingJames@nba.com'),\n",
    "        (24, 'Kobe', 'BeanBryant@nba.com'),\n",
    "        (12, 'Tom Brady', 'DeflateGate@nfl.com')\n",
    "    ],\n",
    "    \n",
    "    \"favorite\": [\n",
    "        (0, 'LeBron', 'Bicep Curl'),\n",
    "        (1, 'Kobe', 'Rows'),\n",
    "        (2, 'Tom Brady', 'Squats')\n",
    "    ]\n",
    "}\n",
    "\n",
    "#insertions"
   ]
  },
  {
   "cell_type": "code",
   "execution_count": 263,
   "id": "42f83f10",
   "metadata": {},
   "outputs": [
    {
     "name": "stdout",
     "output_type": "stream",
     "text": [
      "body_part\n",
      "(0, 'Arms', 13)\n",
      "(1, 'Back', 69)\n",
      "(2, 'Legs', 7)\n",
      "(3, 'Abs', 21)\n",
      "(4, 'Cardio', 45)\n",
      "\n",
      "equipment\n",
      "(0, 'Dumbbells')\n",
      "(1, 'Dumbbells')\n",
      "(2, 'Single Dumbbell')\n",
      "(3, 'Body Weight')\n",
      "(4, 'Body Weight')\n",
      "\n",
      "exercise\n",
      "(0, 'Bicep Curl', 'Curls dumbbells from a standing position', 'Arms', 'Dumbbells')\n",
      "(1, 'Rows', 'Pulls dumbbells towards the chest while bending over', 'Back', 'Dumbbells')\n",
      "(2, 'Squats', 'Lowers body by bending at the hips and knees', 'Legs', 'Body Weight')\n",
      "(3, 'Sit-Ups', 'Lifts upper body towards knees while lying on the ground', 'Abs', 'Body Weight')\n",
      "(4, 'Running', 'Fast-paced movement using legs and feet', 'Cardio', 'None')\n",
      "\n",
      "account\n",
      "(23, 'LeBron', 'KingJames@nba.com')\n",
      "(24, 'Kobe', 'BeanBryant@nba.com')\n",
      "(12, 'Tom Brady', 'DeflateGate@nfl.com')\n",
      "\n",
      "favorite\n",
      "(0, 'LeBron', 'Bicep Curl')\n",
      "(1, 'Kobe', 'Rows')\n",
      "(2, 'Tom Brady', 'Squats')\n",
      "\n"
     ]
    }
   ],
   "source": [
    "for table, value_list in insertions.items():\n",
    "    for value in value_list:\n",
    "        insert(value, table)\n",
    "        \n",
    "    print(table)\n",
    "    print_table(table)\n",
    "    print()"
   ]
  },
  {
   "cell_type": "code",
   "execution_count": 264,
   "id": "3b757ae6-7f1f-42af-8b2c-754d5d58153d",
   "metadata": {},
   "outputs": [],
   "source": [
    "def get_page_exercise_details(exercise_id):\n",
    "    command = \"SELECT * FROM exercise WHERE exercise_id = \"\n",
    "    command += str(exercise_id) + \";\"\n",
    "    c.execute(command)\n",
    "    \n",
    "    data = c.fetchall()\n",
    "    data = data[0][1:]\n",
    "    body_part = data[2]\n",
    "    \n",
    "    command = \"SELECT calories FROM body_part WHERE part_name = '\"\n",
    "    command += body_part + \"';\"\n",
    "    c.execute(command)\n",
    "    \n",
    "    calories = c.fetchall()\n",
    "    calories = calories[0]\n",
    "    data += calories\n",
    "    \n",
    "    details = {\n",
    "        'exercise_name': data[0],\n",
    "        'exercise_description': data[1],\n",
    "        'body_part_name': data[2],\n",
    "        'equipment_name': data[3],\n",
    "        'calories': data[4]\n",
    "    }\n",
    "    \n",
    "    return details"
   ]
  },
  {
   "cell_type": "code",
   "execution_count": 265,
   "id": "2d867e89",
   "metadata": {},
   "outputs": [
    {
     "data": {
      "text/plain": [
       "{'exercise_name': 'Running',\n",
       " 'exercise_description': 'Fast-paced movement using legs and feet',\n",
       " 'body_part_name': 'Cardio',\n",
       " 'equipment_name': 'None',\n",
       " 'calories': 45}"
      ]
     },
     "execution_count": 265,
     "metadata": {},
     "output_type": "execute_result"
    }
   ],
   "source": [
    "get_page_exercise_details(4)"
   ]
  },
  {
   "cell_type": "code",
   "execution_count": 266,
   "id": "0a32e3ab",
   "metadata": {},
   "outputs": [],
   "source": [
    "def get_user_favorites(user_id):\n",
    "    command = \"SELECT username FROM account WHERE account_id = \"\n",
    "    command += str(user_id) + \";\"\n",
    "    c.execute(command)\n",
    "    \n",
    "    user_name = c.fetchall()\n",
    "    user_name = user_name[0][0]\n",
    "    \n",
    "    command = \"SELECT favorite_exercise FROM favorite WHERE favorite_user = '\"\n",
    "    command += user_name + \"';\"\n",
    "    c.execute(command)\n",
    "    \n",
    "    exercise_list = []\n",
    "    fav_exercises = c.fetchall()\n",
    "    fav_exercises = fav_exercises\n",
    "    \n",
    "    for exercise in fav_exercises:\n",
    "        exercise_name = exercise[0]\n",
    "        command = \"SELECT exercise_id FROM exercise WHERE exercise_name = '\"\n",
    "        command += exercise_name + \"';\"\n",
    "        c.execute(command)\n",
    "\n",
    "        exercise_id = c.fetchall()\n",
    "        exercise_id = exercise_id[0][0]\n",
    "\n",
    "        command = \"SELECT * FROM exercise WHERE exercise_id = \"\n",
    "        command += str(exercise_id) + \";\"\n",
    "        \n",
    "        c.execute(command)\n",
    "        data = c.fetchall()\n",
    "        \n",
    "        for exercise in data:\n",
    "            details = {\n",
    "                'exercise_id': exercise[0],\n",
    "                'exercise_name': exercise[1],\n",
    "                'part_name': exercise[3],\n",
    "                'equipment_name': exercise[4]\n",
    "            }\n",
    "            exercise_list.append(details)\n",
    "    \n",
    "    #conn.close()\n",
    "    return exercise_list"
   ]
  },
  {
   "cell_type": "code",
   "execution_count": 267,
   "id": "19cc8af8",
   "metadata": {},
   "outputs": [
    {
     "data": {
      "text/plain": [
       "[{'exercise_id': 0,\n",
       "  'exercise_name': 'Bicep Curl',\n",
       "  'part_name': 'Arms',\n",
       "  'equipment_name': 'Dumbbells'}]"
      ]
     },
     "execution_count": 267,
     "metadata": {},
     "output_type": "execute_result"
    }
   ],
   "source": [
    "get_user_favorites(23)"
   ]
  },
  {
   "cell_type": "code",
   "execution_count": 268,
   "id": "2df399fa",
   "metadata": {},
   "outputs": [],
   "source": [
    "def get_page_login(username, email):\n",
    "    command = \"SELECT account_id FROM account WHERE username = '\"\n",
    "    command += username + \"' AND email = '\"\n",
    "    command += email + \"';\"\n",
    "    \n",
    "    c.execute(command)\n",
    "    user_id = c.fetchall()\n",
    "    \n",
    "    try:\n",
    "        user_id = user_id[0][0]\n",
    "        user_id = str(user_id)\n",
    "        return user_id\n",
    "    \n",
    "    except:\n",
    "        return \"Login Failed: User Not Found\""
   ]
  },
  {
   "cell_type": "code",
   "execution_count": 269,
   "id": "f206e443",
   "metadata": {},
   "outputs": [],
   "source": [
    "def authenticate(username, email):\n",
    "    login = get_page_login(username, email)\n",
    "    return [login.isdigit()]"
   ]
  },
  {
   "cell_type": "code",
   "execution_count": 270,
   "id": "81e44b52",
   "metadata": {},
   "outputs": [
    {
     "data": {
      "text/plain": [
       "'23'"
      ]
     },
     "execution_count": 270,
     "metadata": {},
     "output_type": "execute_result"
    }
   ],
   "source": [
    "get_page_login('LeBron', 'KingJames@nba.com')"
   ]
  },
  {
   "cell_type": "code",
   "execution_count": 271,
   "id": "1b38446d",
   "metadata": {},
   "outputs": [
    {
     "data": {
      "text/plain": [
       "True"
      ]
     },
     "execution_count": 271,
     "metadata": {},
     "output_type": "execute_result"
    }
   ],
   "source": [
    "login = authenticate('LeBron', 'KingJames@nba.com')\n",
    "login[0]"
   ]
  },
  {
   "cell_type": "code",
   "execution_count": 272,
   "id": "127c90ae",
   "metadata": {},
   "outputs": [],
   "source": [
    "def get_current_id(requested_id, table):\n",
    "    command = \"SELECT \" + requested_id + \" FROM \" + table\n",
    "    c.execute(command)\n",
    "    \n",
    "    curr_id = 0\n",
    "    every_id = c.fetchall()\n",
    "    \n",
    "    for index in every_id:\n",
    "        index_id = index[0]\n",
    "        \n",
    "        if index_id >= curr_id:\n",
    "            curr_id = index_id + 1\n",
    "            \n",
    "    return str(curr_id)"
   ]
  },
  {
   "cell_type": "code",
   "execution_count": 273,
   "id": "217af48f",
   "metadata": {},
   "outputs": [],
   "source": [
    "def register_user(username, email):\n",
    "    command = \"SELECT * FROM account WHERE username = '\"\n",
    "    command += username + \"' OR email = '\"\n",
    "    command += email + \"';\"\n",
    "    \n",
    "    c.execute(command)\n",
    "    existing_user = c.fetchall()\n",
    "    \n",
    "    if len(existing_user) != 0:\n",
    "        #conn.close()\n",
    "        return \"Username or Email already in use\"\n",
    "    \n",
    "    try:\n",
    "        curr_id = get_current_id('account_id', 'account')\n",
    "        \n",
    "        command = \"INSERT INTO account Values (\"\n",
    "        command += curr_id + \", '\"\n",
    "        command += username + \"', '\"\n",
    "        command += email + \"');\"\n",
    "    \n",
    "        c.execute(command)\n",
    "        conn.commit()\n",
    "        #conn.close()\n",
    "        \n",
    "        registration = \"Successfully Registrated <br>User ID: \"\n",
    "        registration += curr_id + \"<br>Username: \"\n",
    "        registration += username + \"<br>Email Address: \"\n",
    "        registration += email\n",
    "        \n",
    "        return registration\n",
    "        \n",
    "    except:\n",
    "        #conn.close()\n",
    "        return \"Registration Failed\""
   ]
  },
  {
   "cell_type": "code",
   "execution_count": 274,
   "id": "051437f9",
   "metadata": {},
   "outputs": [
    {
     "data": {
      "text/plain": [
       "'Successfully Registrated <br>User ID: 25<br>Username: Kevin Durant<br>Email Address: Durantula@nba.com'"
      ]
     },
     "execution_count": 274,
     "metadata": {},
     "output_type": "execute_result"
    }
   ],
   "source": [
    "register_user('Kevin Durant', 'Durantula@nba.com')"
   ]
  },
  {
   "cell_type": "code",
   "execution_count": 275,
   "id": "d7bef21c",
   "metadata": {},
   "outputs": [],
   "source": [
    "def add_favorite_exercise(user_id, exercise_id):\n",
    "    command = \"SELECT username FROM account WHERE account_id = \"\n",
    "    command += str(user_id) + \";\"\n",
    "    \n",
    "    c.execute(command)\n",
    "    existing_user = c.fetchall()\n",
    "    \n",
    "    if len(existing_user) == 0:\n",
    "        #conn.close()\n",
    "        return \"User Not Found\"\n",
    "    \n",
    "    command = \"SELECT exercise_name FROM exercise WHERE exercise_id = \"\n",
    "    command += str(exercise_id) + \";\"\n",
    "    \n",
    "    c.execute(command)\n",
    "    existing_exercise = c.fetchall()\n",
    "    \n",
    "    if len(existing_exercise) == 0:\n",
    "        #conn.close()\n",
    "        return \"Exercise Not Found\"\n",
    "    \n",
    "    username = existing_user[0][0]\n",
    "    exercise = existing_exercise[0][0]\n",
    "    \n",
    "    command = \"SELECT * FROM favorite WHERE favorite_user = '\"\n",
    "    command += username + \"' AND favorite_exercise = '\"\n",
    "    command += exercise + \"';\"\n",
    "    \n",
    "    c.execute(command)\n",
    "    existing_user = c.fetchall()\n",
    "    \n",
    "    if len(existing_user) != 0:\n",
    "        #conn.close()\n",
    "        return \"Favorite Already Exists\"\n",
    "    \n",
    "    try:\n",
    "        command = \"SELECT favorite_id FROM favorite;\"\n",
    "        c.execute(command)\n",
    "\n",
    "        curr_id = 0\n",
    "        every_id = c.fetchall()\n",
    "\n",
    "        for index in every_id:\n",
    "            index_id = index[0]\n",
    "\n",
    "            if index_id >= curr_id:\n",
    "                curr_id = index_id + 1\n",
    "                \n",
    "        curr_id = str(curr_id)\n",
    "        command = \"INSERT INTO favorite Values (\"\n",
    "        command += curr_id + \", '\"\n",
    "        command += username + \"', '\"\n",
    "        command += exercise + \"');\"\n",
    "        \n",
    "        c.execute(command)\n",
    "        conn.commit()\n",
    "        #conn.close()\n",
    "        \n",
    "        result = \"Added New Favorite <br>Favorite ID: \"\n",
    "        result += curr_id + \"<br>Username: \"\n",
    "        result += username + \"<br>Exercise: \"\n",
    "        result += exercise\n",
    "        \n",
    "        return result\n",
    "        \n",
    "    except:\n",
    "        #conn.close()\n",
    "        return \"Failed to Add New Favorite\""
   ]
  },
  {
   "cell_type": "code",
   "execution_count": 276,
   "id": "ccae672b",
   "metadata": {},
   "outputs": [
    {
     "data": {
      "text/plain": [
       "'Added New Favorite <br>Favorite ID: 3<br>Username: LeBron<br>Exercise: Running'"
      ]
     },
     "execution_count": 276,
     "metadata": {},
     "output_type": "execute_result"
    }
   ],
   "source": [
    "add_favorite_exercise(23, 4)"
   ]
  },
  {
   "cell_type": "code",
   "execution_count": 277,
   "id": "d1839664",
   "metadata": {},
   "outputs": [
    {
     "data": {
      "text/plain": [
       "[{'exercise_id': 0,\n",
       "  'exercise_name': 'Bicep Curl',\n",
       "  'part_name': 'Arms',\n",
       "  'equipment_name': 'Dumbbells'},\n",
       " {'exercise_id': 4,\n",
       "  'exercise_name': 'Running',\n",
       "  'part_name': 'Cardio',\n",
       "  'equipment_name': 'None'}]"
      ]
     },
     "execution_count": 277,
     "metadata": {},
     "output_type": "execute_result"
    }
   ],
   "source": [
    "get_user_favorites(23)"
   ]
  },
  {
   "cell_type": "code",
   "execution_count": 278,
   "id": "03d658a5",
   "metadata": {},
   "outputs": [
    {
     "name": "stdout",
     "output_type": "stream",
     "text": [
      "(0, 'LeBron', 'Bicep Curl')\n",
      "(1, 'Kobe', 'Rows')\n",
      "(2, 'Tom Brady', 'Squats')\n",
      "(3, 'LeBron', 'Running')\n"
     ]
    }
   ],
   "source": [
    "print_table('favorite')"
   ]
  },
  {
   "cell_type": "code",
   "execution_count": 279,
   "id": "3dadafd4",
   "metadata": {},
   "outputs": [],
   "source": [
    "def get_page_exercise_search(part_name, equipment_name, user_id = None):\n",
    "    if len(part_name) == 0:\n",
    "        return []\n",
    "    \n",
    "    command = \"\"\"\n",
    "    SELECT *\n",
    "    FROM exercise\n",
    "    WHERE (exercise_body_part = '\"\"\"\n",
    "    \n",
    "    for body in part_name[:-1]:\n",
    "        command += body + \"' OR exercise_body_part = '\"\n",
    "    \n",
    "    if len(equipment_name) == 0:\n",
    "        command += part_name[-1] + \"');\"\n",
    "        \n",
    "    else:\n",
    "        command += part_name[-1] + \"') AND (exercise_equipment = '\"\n",
    "\n",
    "        for equip in equipment_name[:-1]:\n",
    "            command += equip + \"' OR exercise_equipment = '\"\n",
    "\n",
    "        command += equipment_name[-1] + \"');\"\n",
    "    \n",
    "    print(command)\n",
    "    c.execute(command)\n",
    "    exercises = c.fetchall()\n",
    "    search_results = []\n",
    "    \n",
    "    for data in exercises:\n",
    "        details = {\n",
    "            'exercise_id': data[0],\n",
    "            'exercise_name': data[1],\n",
    "            'part_name': data[3],\n",
    "            'equipment_name': data[4]\n",
    "        }\n",
    "        #print(details)\n",
    "        search_results.append(details)\n",
    "    \n",
    "    if user_id == None:\n",
    "        #conn.close()\n",
    "        return search_results\n",
    "    \n",
    "    command = \"SELECT username FROM account WHERE account_id = \"\n",
    "    command += str(user_id) + \";\"\n",
    "    \n",
    "    print(command)\n",
    "    c.execute(command)\n",
    "    \n",
    "    user = c.fetchall()\n",
    "    \n",
    "    if len(user) == 0:\n",
    "        return \"User Not Found\"\n",
    "        \n",
    "    user = user[0][0]\n",
    "    \n",
    "    for result in search_results:\n",
    "        command = \"SELECT favorite_id FROM favorite WHERE favorite_user = '\"\n",
    "        command += user + \"' AND favorite_exercise = '\"\n",
    "        command += result['exercise_name'] + \"';\"\n",
    "        \n",
    "        #print(command)\n",
    "        c.execute(command)\n",
    "        \n",
    "        favs_found = c.fetchall()\n",
    "        \n",
    "        if len(favs_found) == 0:\n",
    "            result['favorite'] = False\n",
    "            \n",
    "        else:\n",
    "            result['favorite'] = True\n",
    "            \n",
    "    #conn.close()\n",
    "    return search_results"
   ]
  },
  {
   "cell_type": "code",
   "execution_count": 280,
   "id": "01c2bb42",
   "metadata": {},
   "outputs": [
    {
     "name": "stdout",
     "output_type": "stream",
     "text": [
      "\n",
      "    SELECT *\n",
      "    FROM exercise\n",
      "    WHERE (exercise_body_part = 'Arms' OR exercise_body_part = 'Back' OR exercise_body_part = 'Legs' OR exercise_body_part = 'Cardio') AND (exercise_equipment = 'Dumbbells' OR exercise_equipment = 'None');\n",
      "SELECT username FROM account WHERE account_id = 23;\n"
     ]
    },
    {
     "data": {
      "text/plain": [
       "[{'exercise_id': 0,\n",
       "  'exercise_name': 'Bicep Curl',\n",
       "  'part_name': 'Arms',\n",
       "  'equipment_name': 'Dumbbells',\n",
       "  'favorite': True},\n",
       " {'exercise_id': 1,\n",
       "  'exercise_name': 'Rows',\n",
       "  'part_name': 'Back',\n",
       "  'equipment_name': 'Dumbbells',\n",
       "  'favorite': False},\n",
       " {'exercise_id': 4,\n",
       "  'exercise_name': 'Running',\n",
       "  'part_name': 'Cardio',\n",
       "  'equipment_name': 'None',\n",
       "  'favorite': True}]"
      ]
     },
     "execution_count": 280,
     "metadata": {},
     "output_type": "execute_result"
    }
   ],
   "source": [
    "part_name = ['Arms', 'Back', 'Legs', 'Cardio']\n",
    "equipment_name = ['Dumbbells', 'None']\n",
    "get_page_exercise_search(part_name, equipment_name, 23)"
   ]
  },
  {
   "cell_type": "code",
   "execution_count": 281,
   "id": "a10f989c",
   "metadata": {},
   "outputs": [
    {
     "data": {
      "text/plain": [
       "[('Arms', 'Dumbbells'), ('Back', 'Dumbbells')]"
      ]
     },
     "execution_count": 281,
     "metadata": {},
     "output_type": "execute_result"
    }
   ],
   "source": [
    "command = \"\"\"\n",
    "SELECT exercise_body_part, exercise_equipment\n",
    "FROM exercise\n",
    "WHERE (exercise_body_part = 'Arms' OR exercise_body_part = 'Back')\n",
    "AND (exercise_equipment = 'Dumbbells' OR exercise_equipment = 'None');\n",
    "\"\"\"\n",
    "\n",
    "c.execute(command)\n",
    "equips = c.fetchall()\n",
    "equips"
   ]
  },
  {
   "cell_type": "code",
   "execution_count": 282,
   "id": "25215227",
   "metadata": {},
   "outputs": [],
   "source": [
    "def remove_favorite_exercise(user_id, exercise_id):\n",
    "    command = \"SELECT username FROM account WHERE account_id = \"\n",
    "    command += str(user_id) + \";\"\n",
    "    \n",
    "    c.execute(command)\n",
    "    existing_user = c.fetchall()\n",
    "    \n",
    "    if len(existing_user) == 0:\n",
    "        #conn.close()\n",
    "        return \"User Not Found\"\n",
    "    \n",
    "    command = \"SELECT exercise_name FROM exercise WHERE exercise_id = \"\n",
    "    command += str(exercise_id) + \";\"\n",
    "    \n",
    "    c.execute(command)\n",
    "    existing_exercise = c.fetchall()\n",
    "    \n",
    "    if len(existing_exercise) == 0:\n",
    "        #conn.close()\n",
    "        return \"Exercise Not Found\"\n",
    "    \n",
    "    username = existing_user[0][0]\n",
    "    exercise = existing_exercise[0][0]\n",
    "    \n",
    "    command = \"SELECT * FROM favorite WHERE favorite_user = '\"\n",
    "    command += username + \"' AND favorite_exercise = '\"\n",
    "    command += exercise + \"';\"\n",
    "    \n",
    "    c.execute(command)\n",
    "    existing_favorite = c.fetchall()\n",
    "    \n",
    "    if len(existing_favorite) == 0:\n",
    "        #conn.close()\n",
    "        return \"Favorite Not Found\"\n",
    "    \n",
    "    try:\n",
    "        command = \"DELETE FROM favorite WHERE favorite_user = '\"\n",
    "        command += username + \"' AND favorite_exercise = '\"\n",
    "        command += exercise + \"';\"\n",
    "\n",
    "        c.execute(command)\n",
    "        conn.commit()\n",
    "        #conn.close()\n",
    "        \n",
    "        result = \"Favorite Successfully Removed <br>Username: \"\n",
    "        result += username + \"<br>Exercise: \"\n",
    "        result += exercise\n",
    "        \n",
    "        return result\n",
    "        \n",
    "    except:\n",
    "        #conn.close()\n",
    "        return \"Favorite Removal Failed\""
   ]
  },
  {
   "cell_type": "code",
   "execution_count": 283,
   "id": "9b24d6b4",
   "metadata": {},
   "outputs": [
    {
     "data": {
      "text/plain": [
       "'Favorite Successfully Removed <br>Username: LeBron<br>Exercise: Bicep Curl'"
      ]
     },
     "execution_count": 283,
     "metadata": {},
     "output_type": "execute_result"
    }
   ],
   "source": [
    "remove_favorite_exercise(23, 0)"
   ]
  },
  {
   "cell_type": "code",
   "execution_count": 284,
   "id": "57902e7a",
   "metadata": {},
   "outputs": [
    {
     "data": {
      "text/plain": [
       "[{'exercise_id': 4,\n",
       "  'exercise_name': 'Running',\n",
       "  'part_name': 'Cardio',\n",
       "  'equipment_name': 'None'}]"
      ]
     },
     "execution_count": 284,
     "metadata": {},
     "output_type": "execute_result"
    }
   ],
   "source": [
    "get_user_favorites(23)"
   ]
  },
  {
   "cell_type": "code",
   "execution_count": null,
   "id": "065d2a38",
   "metadata": {},
   "outputs": [],
   "source": []
  }
 ],
 "metadata": {
  "kernelspec": {
   "display_name": "Python 3 (ipykernel)",
   "language": "python",
   "name": "python3"
  },
  "language_info": {
   "codemirror_mode": {
    "name": "ipython",
    "version": 3
   },
   "file_extension": ".py",
   "mimetype": "text/x-python",
   "name": "python",
   "nbconvert_exporter": "python",
   "pygments_lexer": "ipython3",
   "version": "3.8.8"
  },
  "vscode": {
   "interpreter": {
    "hash": "6e93a7bf16dad724e9b533074f97374079089ade205400accb23467a48c65ec2"
   }
  }
 },
 "nbformat": 4,
 "nbformat_minor": 5
}
